{
 "cells": [
  {
   "cell_type": "code",
   "execution_count": 68,
   "id": "80504ed5",
   "metadata": {},
   "outputs": [
    {
     "name": "stdout",
     "output_type": "stream",
     "text": [
      "Requirement already satisfied: pandas in ./venv/lib/python3.9/site-packages (2.2.3)\n",
      "Requirement already satisfied: nltk in ./venv/lib/python3.9/site-packages (3.9.1)\n",
      "Requirement already satisfied: sacrebleu in ./venv/lib/python3.9/site-packages (2.5.1)\n",
      "Requirement already satisfied: evaluate in ./venv/lib/python3.9/site-packages (0.4.3)\n",
      "Requirement already satisfied: bert-score in ./venv/lib/python3.9/site-packages (0.3.13)\n",
      "Requirement already satisfied: urduhack in ./venv/lib/python3.9/site-packages (1.1.1)\n",
      "Requirement already satisfied: torch in ./venv/lib/python3.9/site-packages (2.7.0)\n",
      "Requirement already satisfied: transformers in ./venv/lib/python3.9/site-packages (4.51.3)\n",
      "Requirement already satisfied: numpy>=1.22.4 in ./venv/lib/python3.9/site-packages (from pandas) (2.0.2)\n",
      "Requirement already satisfied: python-dateutil>=2.8.2 in ./venv/lib/python3.9/site-packages (from pandas) (2.9.0.post0)\n",
      "Requirement already satisfied: pytz>=2020.1 in ./venv/lib/python3.9/site-packages (from pandas) (2025.2)\n",
      "Requirement already satisfied: tzdata>=2022.7 in ./venv/lib/python3.9/site-packages (from pandas) (2025.2)\n",
      "Requirement already satisfied: click in ./venv/lib/python3.9/site-packages (from nltk) (7.1.2)\n",
      "Requirement already satisfied: joblib in ./venv/lib/python3.9/site-packages (from nltk) (1.5.0)\n",
      "Requirement already satisfied: regex>=2021.8.3 in ./venv/lib/python3.9/site-packages (from nltk) (2024.11.6)\n",
      "Requirement already satisfied: tqdm in ./venv/lib/python3.9/site-packages (from nltk) (4.67.1)\n",
      "Requirement already satisfied: portalocker in ./venv/lib/python3.9/site-packages (from sacrebleu) (3.1.1)\n",
      "Requirement already satisfied: tabulate>=0.8.9 in ./venv/lib/python3.9/site-packages (from sacrebleu) (0.9.0)\n",
      "Requirement already satisfied: colorama in ./venv/lib/python3.9/site-packages (from sacrebleu) (0.4.6)\n",
      "Requirement already satisfied: lxml in ./venv/lib/python3.9/site-packages (from sacrebleu) (5.4.0)\n",
      "Requirement already satisfied: datasets>=2.0.0 in ./venv/lib/python3.9/site-packages (from evaluate) (3.6.0)\n",
      "Requirement already satisfied: dill in ./venv/lib/python3.9/site-packages (from evaluate) (0.3.8)\n",
      "Requirement already satisfied: requests>=2.19.0 in ./venv/lib/python3.9/site-packages (from evaluate) (2.32.3)\n",
      "Requirement already satisfied: xxhash in ./venv/lib/python3.9/site-packages (from evaluate) (3.5.0)\n",
      "Requirement already satisfied: multiprocess in ./venv/lib/python3.9/site-packages (from evaluate) (0.70.16)\n",
      "Requirement already satisfied: fsspec>=2021.05.0 in ./venv/lib/python3.9/site-packages (from fsspec[http]>=2021.05.0->evaluate) (2025.3.0)\n",
      "Requirement already satisfied: huggingface-hub>=0.7.0 in ./venv/lib/python3.9/site-packages (from evaluate) (0.31.4)\n",
      "Requirement already satisfied: packaging in ./venv/lib/python3.9/site-packages (from evaluate) (25.0)\n",
      "Requirement already satisfied: matplotlib in ./venv/lib/python3.9/site-packages (from bert-score) (3.9.4)\n",
      "Requirement already satisfied: tf2crf in ./venv/lib/python3.9/site-packages (from urduhack) (0.1.33)\n",
      "Requirement already satisfied: tensorflow-datasets~=3.1 in ./venv/lib/python3.9/site-packages (from urduhack) (3.2.1)\n",
      "Requirement already satisfied: absl-py in ./venv/lib/python3.9/site-packages (from tensorflow-datasets~=3.1->urduhack) (2.2.2)\n",
      "Requirement already satisfied: attrs>=18.1.0 in ./venv/lib/python3.9/site-packages (from tensorflow-datasets~=3.1->urduhack) (25.3.0)\n",
      "Requirement already satisfied: future in ./venv/lib/python3.9/site-packages (from tensorflow-datasets~=3.1->urduhack) (1.0.0)\n",
      "Requirement already satisfied: promise in ./venv/lib/python3.9/site-packages (from tensorflow-datasets~=3.1->urduhack) (2.3)\n",
      "Requirement already satisfied: protobuf>=3.6.1 in ./venv/lib/python3.9/site-packages (from tensorflow-datasets~=3.1->urduhack) (4.21.12)\n",
      "Requirement already satisfied: six in ./venv/lib/python3.9/site-packages (from tensorflow-datasets~=3.1->urduhack) (1.17.0)\n",
      "Requirement already satisfied: tensorflow-metadata in ./venv/lib/python3.9/site-packages (from tensorflow-datasets~=3.1->urduhack) (1.17.1)\n",
      "Requirement already satisfied: termcolor in ./venv/lib/python3.9/site-packages (from tensorflow-datasets~=3.1->urduhack) (3.1.0)\n",
      "Requirement already satisfied: wrapt in ./venv/lib/python3.9/site-packages (from tensorflow-datasets~=3.1->urduhack) (1.17.2)\n",
      "Requirement already satisfied: filelock in ./venv/lib/python3.9/site-packages (from torch) (3.18.0)\n",
      "Requirement already satisfied: typing-extensions>=4.10.0 in ./venv/lib/python3.9/site-packages (from torch) (4.13.2)\n",
      "Requirement already satisfied: sympy>=1.13.3 in ./venv/lib/python3.9/site-packages (from torch) (1.14.0)\n",
      "Requirement already satisfied: networkx in ./venv/lib/python3.9/site-packages (from torch) (3.2.1)\n",
      "Requirement already satisfied: jinja2 in ./venv/lib/python3.9/site-packages (from torch) (3.1.6)\n",
      "Requirement already satisfied: pyyaml>=5.1 in ./venv/lib/python3.9/site-packages (from transformers) (6.0.2)\n",
      "Requirement already satisfied: tokenizers<0.22,>=0.21 in ./venv/lib/python3.9/site-packages (from transformers) (0.21.1)\n",
      "Requirement already satisfied: safetensors>=0.4.3 in ./venv/lib/python3.9/site-packages (from transformers) (0.5.3)\n",
      "Requirement already satisfied: pyarrow>=15.0.0 in ./venv/lib/python3.9/site-packages (from datasets>=2.0.0->evaluate) (20.0.0)\n",
      "Requirement already satisfied: aiohttp!=4.0.0a0,!=4.0.0a1 in ./venv/lib/python3.9/site-packages (from fsspec[http]>=2021.05.0->evaluate) (3.11.18)\n",
      "Requirement already satisfied: aiohappyeyeballs>=2.3.0 in ./venv/lib/python3.9/site-packages (from aiohttp!=4.0.0a0,!=4.0.0a1->fsspec[http]>=2021.05.0->evaluate) (2.6.1)\n",
      "Requirement already satisfied: aiosignal>=1.1.2 in ./venv/lib/python3.9/site-packages (from aiohttp!=4.0.0a0,!=4.0.0a1->fsspec[http]>=2021.05.0->evaluate) (1.3.2)\n",
      "Requirement already satisfied: async-timeout<6.0,>=4.0 in ./venv/lib/python3.9/site-packages (from aiohttp!=4.0.0a0,!=4.0.0a1->fsspec[http]>=2021.05.0->evaluate) (5.0.1)\n",
      "Requirement already satisfied: frozenlist>=1.1.1 in ./venv/lib/python3.9/site-packages (from aiohttp!=4.0.0a0,!=4.0.0a1->fsspec[http]>=2021.05.0->evaluate) (1.6.0)\n",
      "Requirement already satisfied: multidict<7.0,>=4.5 in ./venv/lib/python3.9/site-packages (from aiohttp!=4.0.0a0,!=4.0.0a1->fsspec[http]>=2021.05.0->evaluate) (6.4.4)\n",
      "Requirement already satisfied: propcache>=0.2.0 in ./venv/lib/python3.9/site-packages (from aiohttp!=4.0.0a0,!=4.0.0a1->fsspec[http]>=2021.05.0->evaluate) (0.3.1)\n",
      "Requirement already satisfied: yarl<2.0,>=1.17.0 in ./venv/lib/python3.9/site-packages (from aiohttp!=4.0.0a0,!=4.0.0a1->fsspec[http]>=2021.05.0->evaluate) (1.20.0)\n",
      "Requirement already satisfied: idna>=2.0 in ./venv/lib/python3.9/site-packages (from yarl<2.0,>=1.17.0->aiohttp!=4.0.0a0,!=4.0.0a1->fsspec[http]>=2021.05.0->evaluate) (3.10)\n",
      "Requirement already satisfied: charset-normalizer<4,>=2 in ./venv/lib/python3.9/site-packages (from requests>=2.19.0->evaluate) (3.4.2)\n",
      "Requirement already satisfied: urllib3<3,>=1.21.1 in ./venv/lib/python3.9/site-packages (from requests>=2.19.0->evaluate) (2.4.0)\n",
      "Requirement already satisfied: certifi>=2017.4.17 in ./venv/lib/python3.9/site-packages (from requests>=2.19.0->evaluate) (2025.4.26)\n",
      "Requirement already satisfied: mpmath<1.4,>=1.1.0 in ./venv/lib/python3.9/site-packages (from sympy>=1.13.3->torch) (1.3.0)\n",
      "Requirement already satisfied: MarkupSafe>=2.0 in ./venv/lib/python3.9/site-packages (from jinja2->torch) (3.0.2)\n",
      "Requirement already satisfied: contourpy>=1.0.1 in ./venv/lib/python3.9/site-packages (from matplotlib->bert-score) (1.3.0)\n",
      "Requirement already satisfied: cycler>=0.10 in ./venv/lib/python3.9/site-packages (from matplotlib->bert-score) (0.12.1)\n",
      "Requirement already satisfied: fonttools>=4.22.0 in ./venv/lib/python3.9/site-packages (from matplotlib->bert-score) (4.58.0)\n",
      "Requirement already satisfied: kiwisolver>=1.3.1 in ./venv/lib/python3.9/site-packages (from matplotlib->bert-score) (1.4.7)\n",
      "Requirement already satisfied: pillow>=8 in ./venv/lib/python3.9/site-packages (from matplotlib->bert-score) (11.2.1)\n",
      "Requirement already satisfied: pyparsing>=2.3.1 in ./venv/lib/python3.9/site-packages (from matplotlib->bert-score) (3.2.3)\n",
      "Requirement already satisfied: importlib-resources>=3.2.0 in ./venv/lib/python3.9/site-packages (from matplotlib->bert-score) (6.5.2)\n",
      "Requirement already satisfied: zipp>=3.1.0 in ./venv/lib/python3.9/site-packages (from importlib-resources>=3.2.0->matplotlib->bert-score) (3.21.0)\n",
      "Requirement already satisfied: tensorflow>=2.1.0 in ./venv/lib/python3.9/site-packages (from tf2crf->urduhack) (2.19.0)\n",
      "Requirement already satisfied: tensorflow-addons>=0.8.2 in ./venv/lib/python3.9/site-packages (from tf2crf->urduhack) (0.23.0)\n",
      "Requirement already satisfied: astunparse>=1.6.0 in ./venv/lib/python3.9/site-packages (from tensorflow>=2.1.0->tf2crf->urduhack) (1.6.3)\n",
      "Requirement already satisfied: flatbuffers>=24.3.25 in ./venv/lib/python3.9/site-packages (from tensorflow>=2.1.0->tf2crf->urduhack) (25.2.10)\n",
      "Requirement already satisfied: gast!=0.5.0,!=0.5.1,!=0.5.2,>=0.2.1 in ./venv/lib/python3.9/site-packages (from tensorflow>=2.1.0->tf2crf->urduhack) (0.6.0)\n",
      "Requirement already satisfied: google-pasta>=0.1.1 in ./venv/lib/python3.9/site-packages (from tensorflow>=2.1.0->tf2crf->urduhack) (0.2.0)\n",
      "Requirement already satisfied: libclang>=13.0.0 in ./venv/lib/python3.9/site-packages (from tensorflow>=2.1.0->tf2crf->urduhack) (18.1.1)\n",
      "Requirement already satisfied: opt-einsum>=2.3.2 in ./venv/lib/python3.9/site-packages (from tensorflow>=2.1.0->tf2crf->urduhack) (3.4.0)\n",
      "Requirement already satisfied: setuptools in ./venv/lib/python3.9/site-packages (from tensorflow>=2.1.0->tf2crf->urduhack) (58.0.4)\n",
      "Requirement already satisfied: grpcio<2.0,>=1.24.3 in ./venv/lib/python3.9/site-packages (from tensorflow>=2.1.0->tf2crf->urduhack) (1.71.0)\n",
      "Requirement already satisfied: tensorboard~=2.19.0 in ./venv/lib/python3.9/site-packages (from tensorflow>=2.1.0->tf2crf->urduhack) (2.19.0)\n",
      "Requirement already satisfied: keras>=3.5.0 in ./venv/lib/python3.9/site-packages (from tensorflow>=2.1.0->tf2crf->urduhack) (3.10.0)\n",
      "Requirement already satisfied: h5py>=3.11.0 in ./venv/lib/python3.9/site-packages (from tensorflow>=2.1.0->tf2crf->urduhack) (3.13.0)\n",
      "Requirement already satisfied: ml-dtypes<1.0.0,>=0.5.1 in ./venv/lib/python3.9/site-packages (from tensorflow>=2.1.0->tf2crf->urduhack) (0.5.1)\n",
      "Requirement already satisfied: tensorflow-io-gcs-filesystem>=0.23.1 in ./venv/lib/python3.9/site-packages (from tensorflow>=2.1.0->tf2crf->urduhack) (0.37.1)\n",
      "Requirement already satisfied: markdown>=2.6.8 in ./venv/lib/python3.9/site-packages (from tensorboard~=2.19.0->tensorflow>=2.1.0->tf2crf->urduhack) (3.8)\n",
      "Requirement already satisfied: tensorboard-data-server<0.8.0,>=0.7.0 in ./venv/lib/python3.9/site-packages (from tensorboard~=2.19.0->tensorflow>=2.1.0->tf2crf->urduhack) (0.7.2)\n",
      "Requirement already satisfied: werkzeug>=1.0.1 in ./venv/lib/python3.9/site-packages (from tensorboard~=2.19.0->tensorflow>=2.1.0->tf2crf->urduhack) (3.1.3)\n",
      "Requirement already satisfied: wheel<1.0,>=0.23.0 in ./venv/lib/python3.9/site-packages (from astunparse>=1.6.0->tensorflow>=2.1.0->tf2crf->urduhack) (0.45.1)\n",
      "Requirement already satisfied: rich in ./venv/lib/python3.9/site-packages (from keras>=3.5.0->tensorflow>=2.1.0->tf2crf->urduhack) (14.0.0)\n",
      "Requirement already satisfied: namex in ./venv/lib/python3.9/site-packages (from keras>=3.5.0->tensorflow>=2.1.0->tf2crf->urduhack) (0.0.9)\n",
      "Requirement already satisfied: optree in ./venv/lib/python3.9/site-packages (from keras>=3.5.0->tensorflow>=2.1.0->tf2crf->urduhack) (0.15.0)\n",
      "Requirement already satisfied: importlib-metadata>=4.4 in ./venv/lib/python3.9/site-packages (from markdown>=2.6.8->tensorboard~=2.19.0->tensorflow>=2.1.0->tf2crf->urduhack) (8.7.0)\n",
      "Requirement already satisfied: typeguard<3.0.0,>=2.7 in ./venv/lib/python3.9/site-packages (from tensorflow-addons>=0.8.2->tf2crf->urduhack) (2.13.3)\n",
      "Requirement already satisfied: markdown-it-py>=2.2.0 in ./venv/lib/python3.9/site-packages (from rich->keras>=3.5.0->tensorflow>=2.1.0->tf2crf->urduhack) (3.0.0)\n",
      "Requirement already satisfied: pygments<3.0.0,>=2.13.0 in ./venv/lib/python3.9/site-packages (from rich->keras>=3.5.0->tensorflow>=2.1.0->tf2crf->urduhack) (2.19.1)\n",
      "Requirement already satisfied: mdurl~=0.1 in ./venv/lib/python3.9/site-packages (from markdown-it-py>=2.2.0->rich->keras>=3.5.0->tensorflow>=2.1.0->tf2crf->urduhack) (0.1.2)\n"
     ]
    }
   ],
   "source": [
    "!pip install pandas nltk sacrebleu evaluate bert-score urduhack torch transformers\n"
   ]
  },
  {
   "cell_type": "code",
   "execution_count": 69,
   "id": "8e01d95d",
   "metadata": {},
   "outputs": [],
   "source": [
    "import pandas as pd\n",
    "import nltk\n",
    "import sacrebleu\n",
    "from evaluate import load\n",
    "from bert_score import score as bert_score\n",
    "from nltk.translate.bleu_score import sentence_bleu, SmoothingFunction\n",
    "from nltk.translate.meteor_score import meteor_score\n",
    "import torch\n",
    "import stanza\n",
    "import re"
   ]
  },
  {
   "cell_type": "code",
   "execution_count": null,
   "id": "f5fd3d53",
   "metadata": {},
   "outputs": [],
   "source": [
    "#Urdu Text Normalization\n",
    "def normalize_urdu_text(text):\n",
    "    text = text.strip()\n",
    "    text = re.sub(r\"[\\u0610-\\u061A\\u064B-\\u065F\\u06D6-\\u06ED]\", \"\", text)\n",
    "    text = re.sub(r\"[\\u06D4\\u060C\\u066B\\u066C]\", \"\", text)  \n",
    "    text = re.sub(r\"\\s+\", \" \", text) \n",
    "   \n",
    "    synonym_map = {\n",
    "        \"کیا\": \"کیا تھا\",\n",
    "        \"ہے\": \"تھا\",\n",
    "        \"ہیں\": \"تھے\"\n",
    "    }\n",
    "    for k, v in synonym_map.items():\n",
    "        text = text.replace(k, v)\n",
    "    return text\n"
   ]
  },
  {
   "cell_type": "code",
   "execution_count": null,
   "id": "97de6313",
   "metadata": {},
   "outputs": [],
   "source": [
    "# Urdu Tokenizer\n",
    "def urdu_tokenizer(text):\n",
    "    text = normalize_urdu_text(text)\n",
    "    doc = nlp(text)\n",
    "    return [word.text for sent in doc.sentences for word in sent.words]\n",
    "\n",
    "rouge = load(\"rouge\")"
   ]
  },
  {
   "cell_type": "code",
   "execution_count": null,
   "id": "80aa15a7",
   "metadata": {},
   "outputs": [],
   "source": [
    "# Load Data\n",
    "csv_file = 'Final_Answers_Generated_llama3.1dual1.csv'\n",
    "df = pd.read_csv(csv_file, usecols=[\n",
    "    'modified_rag_refined_answer', 'traditional_rag_refined_answer', 'answer'\n",
    "])\n",
    "df = df.fillna(\"\").astype(str)\n",
    "\n",
    "references = [normalize_urdu_text(ref) for ref in df['answer'].tolist()]\n",
    "mod_rag_preds = [normalize_urdu_text(pred) for pred in df['modified_rag_refined_answer'].tolist()]\n",
    "trad_rag_preds = [normalize_urdu_text(pred) for pred in df['traditional_rag_refined_answer'].tolist()]\n"
   ]
  },
  {
   "cell_type": "code",
   "execution_count": null,
   "id": "3b5050fe",
   "metadata": {},
   "outputs": [],
   "source": [
    "# Metric Calculation Functions\n",
    "def calculate_nltk_bleu(references, hypotheses):\n",
    "    scores = []\n",
    "    smooth = SmoothingFunction().method4\n",
    "    for ref, hyp in zip(references, hypotheses):\n",
    "        score = sentence_bleu([urdu_tokenizer(ref)], urdu_tokenizer(hyp), smoothing_function=smooth)\n",
    "        scores.append(score * 100)\n",
    "    return scores\n",
    "\n",
    "def calculate_sacrebleu(references, hypotheses):\n",
    "    return [sacrebleu.sentence_bleu(hyp, [ref]).score for ref, hyp in zip(references, hypotheses)]\n",
    "\n",
    "def calculate_rouge(references, hypotheses):\n",
    "    results = rouge.compute(\n",
    "        predictions=hypotheses,\n",
    "        references=references,\n",
    "        tokenizer=lambda x: urdu_tokenizer(x),\n",
    "        use_aggregator=False\n",
    "    )\n",
    "    return results['rouge1'], results['rouge2'], results['rougeL']\n",
    "\n",
    "def calculate_meteor(references, hypotheses):\n",
    "    ref_tok = [urdu_tokenizer(ref) for ref in references]\n",
    "    hyp_tok = [urdu_tokenizer(hyp) for hyp in hypotheses]\n",
    "    return [meteor_score([r], h) for r, h in zip(ref_tok, hyp_tok)]\n",
    "\n",
    "def calculate_bert_score(references, hypotheses):\n",
    "    P, R, F1 = bert_score(\n",
    "        cands=hypotheses,\n",
    "        refs=references,\n",
    "        lang=\"ur\",\n",
    "        model_type=\"xlm-roberta-base\",\n",
    "        rescale_with_baseline=True,\n",
    "        device=torch.device('cuda' if torch.cuda.is_available() else 'cpu'),\n",
    "        verbose=True,\n",
    "    )\n",
    "    return P.tolist(), R.tolist(), F1.tolist()\n",
    "\n",
    "def calculate_exact_match(references, hypotheses):\n",
    "    return [1 if ref.strip() == hyp.strip() else 0 for ref, hyp in zip(references, hypotheses)]\n"
   ]
  },
  {
   "cell_type": "code",
   "execution_count": null,
   "id": "d7ba4443",
   "metadata": {},
   "outputs": [],
   "source": [
    "# Evaluation Function\n",
    "def evaluate_pipeline(name, references, predictions):\n",
    "    print(f\"\\n🔍 Evaluating: {name}\")\n",
    "\n",
    "    nltk_bleu = calculate_nltk_bleu(references, predictions)\n",
    "    sacrebleu_scores = calculate_sacrebleu(references, predictions)\n",
    "    rouge1, rouge2, rougeL = calculate_rouge(references, predictions)\n",
    "    meteor = calculate_meteor(references, predictions)\n",
    "    exact_match = calculate_exact_match(references, predictions)\n",
    "    bert_p, bert_r, bert_f1 = calculate_bert_score(references, predictions)\n",
    "\n",
    "    print(f\"✅ Scores calculated for: {name}\")\n",
    "\n",
    "    return pd.DataFrame({\n",
    "        'Pipeline': [name] * len(references),\n",
    "        'Ground Truth Answer': references,\n",
    "        'Generated Answer': predictions,\n",
    "        'BLEU': nltk_bleu,\n",
    "        'SacreBLEU': sacrebleu_scores,\n",
    "        'ROUGE-1': rouge1,\n",
    "        'ROUGE-2': rouge2,\n",
    "        'ROUGE-L': rougeL,\n",
    "        'METEOR': meteor,\n",
    "        'Exact Match': exact_match,\n",
    "        'BERT Precision': bert_p,\n",
    "        'BERT Recall': bert_r,\n",
    "        'BERT F1': bert_f1\n",
    "    })\n"
   ]
  },
  {
   "cell_type": "code",
   "execution_count": null,
   "id": "1c2bff18",
   "metadata": {},
   "outputs": [
    {
     "name": "stdout",
     "output_type": "stream",
     "text": [
      "\n",
      "🔍 Evaluating: Modified RAG\n",
      "calculating scores...\n",
      "computing bert embedding.\n"
     ]
    },
    {
     "name": "stderr",
     "output_type": "stream",
     "text": [
      "100%|██████████| 21/21 [00:10<00:00,  1.93it/s]\n"
     ]
    },
    {
     "name": "stdout",
     "output_type": "stream",
     "text": [
      "computing greedy matching.\n"
     ]
    },
    {
     "name": "stderr",
     "output_type": "stream",
     "text": [
      "100%|██████████| 15/15 [00:00<00:00, 90.06it/s]\n",
      "Warning: Baseline not Found for xlm-roberta-base on ur at /Users/mac/Documents/LMA-RAG Code/LMA-RAG Thesis Code/Evaluation_FAQ_RAG_Final_Code/venv/lib/python3.9/site-packages/bert_score/rescale_baseline/ur/xlm-roberta-base.tsv\n"
     ]
    },
    {
     "name": "stdout",
     "output_type": "stream",
     "text": [
      "done in 11.05 seconds, 81.39 sentences/sec\n",
      "✅ Scores calculated for: Modified RAG\n",
      "\n",
      "🔍 Evaluating: Traditional RAG\n",
      "calculating scores...\n",
      "computing bert embedding.\n"
     ]
    },
    {
     "name": "stderr",
     "output_type": "stream",
     "text": [
      "100%|██████████| 21/21 [00:11<00:00,  1.90it/s]\n"
     ]
    },
    {
     "name": "stdout",
     "output_type": "stream",
     "text": [
      "computing greedy matching.\n"
     ]
    },
    {
     "name": "stderr",
     "output_type": "stream",
     "text": [
      "  0%|          | 0/15 [00:00<?, ?it/s]Warning: Empty candidate sentence detected; setting raw BERTscores to 0.\n",
      "100%|██████████| 15/15 [00:00<00:00, 117.32it/s]\n",
      "Warning: Baseline not Found for xlm-roberta-base on ur at /Users/mac/Documents/LMA-RAG Code/LMA-RAG Thesis Code/Evaluation_FAQ_RAG_Final_Code/venv/lib/python3.9/site-packages/bert_score/rescale_baseline/ur/xlm-roberta-base.tsv\n"
     ]
    },
    {
     "name": "stdout",
     "output_type": "stream",
     "text": [
      "done in 11.19 seconds, 80.36 sentences/sec\n",
      "✅ Scores calculated for: Traditional RAG\n"
     ]
    }
   ],
   "source": [
    "\n",
    "# Evaluate Pipelines\n",
    "mod_results = evaluate_pipeline(\"Modified RAG\", references, mod_rag_preds)\n",
    "trad_results = evaluate_pipeline(\"Traditional RAG\", references, trad_rag_preds)\n",
    "\n",
    "final_results_df = pd.concat([mod_results, trad_results], ignore_index=True)\n"
   ]
  },
  {
   "cell_type": "code",
   "execution_count": null,
   "id": "97aa6f31",
   "metadata": {},
   "outputs": [
    {
     "name": "stdout",
     "output_type": "stream",
     "text": [
      "\n",
      "📈 === Average Scores for Modified RAG ===\n",
      "BLEU: 0.6452\n",
      "SacreBLEU: 1.2095\n",
      "ROUGE-1: 0.0373\n",
      "ROUGE-2: 0.0071\n",
      "ROUGE-L: 0.0362\n",
      "METEOR: 0.0370\n",
      "Exact Match: 0.0000\n",
      "BERTScore F1: 0.7899\n",
      "\n",
      "📈 === Average Scores for Traditional RAG ===\n",
      "BLEU: 1.5997\n",
      "SacreBLEU: 2.5384\n",
      "ROUGE-1: 0.0674\n",
      "ROUGE-2: 0.0185\n",
      "ROUGE-L: 0.0663\n",
      "METEOR: 0.0815\n",
      "Exact Match: 0.0067\n",
      "BERTScore F1: 0.7949\n"
     ]
    }
   ],
   "source": [
    "# Summary Function\n",
    "def summarize_metrics(df, label):\n",
    "    print(f\"\\n📈 === Average Scores for {label} ===\")\n",
    "    print(f\"BLEU: {df['BLEU'].mean():.4f}\")\n",
    "    print(f\"SacreBLEU: {df['SacreBLEU'].mean():.4f}\")\n",
    "    print(f\"ROUGE-1: {df['ROUGE-1'].mean():.4f}\")\n",
    "    print(f\"ROUGE-2: {df['ROUGE-2'].mean():.4f}\")\n",
    "    print(f\"ROUGE-L: {df['ROUGE-L'].mean():.4f}\")\n",
    "    print(f\"METEOR: {df['METEOR'].mean():.4f}\")\n",
    "    print(f\"Exact Match: {df['Exact Match'].mean():.4f}\")\n",
    "    print(f\"BERTScore F1: {df['BERT F1'].mean():.4f}\")\n",
    "\n",
    "summarize_metrics(mod_results, \"Modified RAG\")\n",
    "summarize_metrics(trad_results, \"Traditional RAG\")"
   ]
  },
  {
   "cell_type": "code",
   "execution_count": null,
   "id": "b63d83d3",
   "metadata": {},
   "outputs": [
    {
     "name": "stdout",
     "output_type": "stream",
     "text": [
      "✅ Results saved to: Evaluation_Results_Modified_vs_Traditional.csv\n"
     ]
    }
   ],
   "source": [
    "# Combine & Save Both Pipelines into One CSV\n",
    "final_results_df = pd.concat([mod_results, trad_results], ignore_index=True)\n",
    "\n",
    "final_results_df.to_csv(\"Evaluation_Results_Modified_vs_Traditional.csv\", index=False)\n",
    "print(\"✅ Results saved to: Evaluation_Results_Modified_vs_Traditional.csv\")\n"
   ]
  }
 ],
 "metadata": {
  "kernelspec": {
   "display_name": "venv",
   "language": "python",
   "name": "python3"
  },
  "language_info": {
   "codemirror_mode": {
    "name": "ipython",
    "version": 3
   },
   "file_extension": ".py",
   "mimetype": "text/x-python",
   "name": "python",
   "nbconvert_exporter": "python",
   "pygments_lexer": "ipython3",
   "version": "3.9.6"
  }
 },
 "nbformat": 4,
 "nbformat_minor": 5
}
